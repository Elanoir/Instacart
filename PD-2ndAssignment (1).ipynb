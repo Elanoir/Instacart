{
 "cells": [
  {
   "cell_type": "markdown",
   "id": "b170225f",
   "metadata": {},
   "source": [
    "# Prospecção de Dados 2022/2023\n",
    "## Mestrado em Ciência de Dados | Second Home Assignment\n",
    "\n",
    "### Group 14: Tiago Gil, No 59453 | Nuno Lopes, No 59461 | Daniela Moutinho, No 57064"
   ]
  },
  {
   "cell_type": "code",
   "execution_count": 88,
   "id": "174f1471",
   "metadata": {},
   "outputs": [],
   "source": [
    "from pyfim import pyeclat\n",
    "from mlxtend.frequent_patterns import apriori, association_rules, fpgrowth\n",
    "from mlxtend.preprocessing import  TransactionEncoder\n",
    "from PD_freqitems import freqitemsets\n",
    "import pandas as pd\n",
    "import csv\n",
    "import pickle\n",
    "import time\n",
    "import matplotlib.pyplot as plt\n",
    "import numpy as np"
   ]
  },
  {
   "cell_type": "code",
   "execution_count": 34,
   "id": "136567c3",
   "metadata": {},
   "outputs": [],
   "source": [
    "# Load data from pickle file\n",
    "orders = pickle.load(open(\"order_products.pickle\", \"rb\"))\n",
    "\n",
    "# Convert data to list of lists\n",
    "order=[val for key, val in orders.items()]"
   ]
  },
  {
   "cell_type": "code",
   "execution_count": null,
   "id": "63d6ddbc",
   "metadata": {},
   "outputs": [],
   "source": [
    "# Write data to a dat file (unecessary when using pyeclat directly in jupyter)\n",
    "path = 'transaction_list.dat'\n",
    "with open(path, 'w', newline='') as f:\n",
    "    wr = csv.writer(f)\n",
    "    wr.writerows(order)\n",
    "\n",
    "with open('transaction_list.dat', 'r') as f:\n",
    "    orders_eclat = [list(map(int, row)) for row in csv.reader(f)]"
   ]
  },
  {
   "cell_type": "code",
   "execution_count": 91,
   "id": "43c3e442",
   "metadata": {},
   "outputs": [],
   "source": [
    "#Read product names and IDs\n",
    "lines=open(\"products.txt\", \"rt\", encoding=\"utf8\").readlines()\n",
    "products=[0]*len(lines)\n",
    "for lin in lines[1:]:\n",
    "    pid, pname, aid, did=lin.strip().split(\"\\t\")    \n",
    "    products[int(pid)]=pname"
   ]
  },
  {
   "cell_type": "code",
   "execution_count": 93,
   "id": "14dd4fe9",
   "metadata": {},
   "outputs": [
    {
     "name": "stdout",
     "output_type": "stream",
     "text": [
      "Organic Fuji Apple\n"
     ]
    }
   ],
   "source": [
    "print(products[28204])"
   ]
  },
  {
   "cell_type": "markdown",
   "id": "8cf5868a",
   "metadata": {},
   "source": [
    "### Objective 1"
   ]
  },
  {
   "cell_type": "code",
   "execution_count": 36,
   "id": "06c8e46e",
   "metadata": {},
   "outputs": [],
   "source": [
    "tr_enc = TransactionEncoder()\n",
    "trans_array = tr_enc.fit(order).transform(order, sparse=True)\n",
    "binary_db=pd.DataFrame.sparse.from_spmatrix(trans_array,columns=[str(i) for i in tr_enc.columns_])"
   ]
  },
  {
   "cell_type": "code",
   "execution_count": 39,
   "id": "de889646",
   "metadata": {},
   "outputs": [
    {
     "name": "stdout",
     "output_type": "stream",
     "text": [
      "636 ms ± 14.1 ms per loop (mean ± std. dev. of 7 runs, 1 loop each)\n",
      "5.28 s ± 62.1 ms per loop (mean ± std. dev. of 7 runs, 1 loop each)\n",
      "15.2 s ± 207 ms per loop (mean ± std. dev. of 7 runs, 1 loop each)\n"
     ]
    }
   ],
   "source": [
    "%timeit FI_apriori= apriori(binary_db, 0.10)\n",
    "%timeit FI_fpg= fpgrowth(binary_db, 0.10)\n",
    "%timeit FI_eclat= pyeclat(orders_eclat, 0.10)"
   ]
  },
  {
   "cell_type": "code",
   "execution_count": 44,
   "id": "8d931464",
   "metadata": {},
   "outputs": [
    {
     "name": "stdout",
     "output_type": "stream",
     "text": [
      "0.2 0 \n",
      "\tApriori time: 0.661921501159668 \n",
      "\tFP-growth time: 4.924543142318726 \n",
      "\tECLAT time: 23.384131908416748 \n",
      "\tPD time: 14.689454317092896\n",
      "0.1 2 \n",
      "\tApriori time: 0.6622276306152344 \n",
      "\tFP-growth time: 5.455636739730835 \n",
      "\tECLAT time: 23.411083698272705 \n",
      "\tPD time: 14.876533508300781\n",
      "0.05 6 \n",
      "\tApriori time: 0.782524824142456 \n",
      "\tFP-growth time: 5.686054229736328 \n",
      "\tECLAT time: 24.163416147232056 \n",
      "\tPD time: 15.019968032836914\n",
      "0.02 39 \n",
      "\tApriori time: 8.485401391983032 \n",
      "\tFP-growth time: 8.418365955352783 \n",
      "\tECLAT time: 26.439044713974 \n",
      "\tPD time: 17.778353452682495\n",
      "0.015 69 \n",
      "\tApriori time: 24.90260934829712 \n",
      "\tFP-growth time: 15.669177532196045 \n",
      "\tECLAT time: 27.688853979110718 \n",
      "\tPD time: 22.031962871551514\n",
      "0.01 116 \n",
      "\tApriori time: 285.744966506958 \n",
      "\tFP-growth time: 37.711196184158325 \n",
      "\tECLAT time: 33.6409637928009 \n",
      "\tPD time: 31.739607095718384\n"
     ]
    },
    {
     "data": {
      "text/html": [
       "<div>\n",
       "<style scoped>\n",
       "    .dataframe tbody tr th:only-of-type {\n",
       "        vertical-align: middle;\n",
       "    }\n",
       "\n",
       "    .dataframe tbody tr th {\n",
       "        vertical-align: top;\n",
       "    }\n",
       "\n",
       "    .dataframe thead th {\n",
       "        text-align: right;\n",
       "    }\n",
       "</style>\n",
       "<table border=\"1\" class=\"dataframe\">\n",
       "  <thead>\n",
       "    <tr style=\"text-align: right;\">\n",
       "      <th></th>\n",
       "      <th>threshold</th>\n",
       "      <th>num_itemsets</th>\n",
       "      <th>apriori</th>\n",
       "      <th>FP-growth</th>\n",
       "      <th>ECLAT</th>\n",
       "      <th>PD</th>\n",
       "    </tr>\n",
       "  </thead>\n",
       "  <tbody>\n",
       "    <tr>\n",
       "      <th>0</th>\n",
       "      <td>0.200</td>\n",
       "      <td>0</td>\n",
       "      <td>0.661922</td>\n",
       "      <td>4.924543</td>\n",
       "      <td>23.384132</td>\n",
       "      <td>14.689454</td>\n",
       "    </tr>\n",
       "    <tr>\n",
       "      <th>1</th>\n",
       "      <td>0.100</td>\n",
       "      <td>2</td>\n",
       "      <td>0.662228</td>\n",
       "      <td>5.455637</td>\n",
       "      <td>23.411084</td>\n",
       "      <td>14.876534</td>\n",
       "    </tr>\n",
       "    <tr>\n",
       "      <th>2</th>\n",
       "      <td>0.050</td>\n",
       "      <td>6</td>\n",
       "      <td>0.782525</td>\n",
       "      <td>5.686054</td>\n",
       "      <td>24.163416</td>\n",
       "      <td>15.019968</td>\n",
       "    </tr>\n",
       "    <tr>\n",
       "      <th>3</th>\n",
       "      <td>0.020</td>\n",
       "      <td>39</td>\n",
       "      <td>8.485401</td>\n",
       "      <td>8.418366</td>\n",
       "      <td>26.439045</td>\n",
       "      <td>17.778353</td>\n",
       "    </tr>\n",
       "    <tr>\n",
       "      <th>4</th>\n",
       "      <td>0.015</td>\n",
       "      <td>69</td>\n",
       "      <td>24.902609</td>\n",
       "      <td>15.669178</td>\n",
       "      <td>27.688854</td>\n",
       "      <td>22.031963</td>\n",
       "    </tr>\n",
       "    <tr>\n",
       "      <th>5</th>\n",
       "      <td>0.010</td>\n",
       "      <td>116</td>\n",
       "      <td>285.744967</td>\n",
       "      <td>37.711196</td>\n",
       "      <td>33.640964</td>\n",
       "      <td>31.739607</td>\n",
       "    </tr>\n",
       "  </tbody>\n",
       "</table>\n",
       "</div>"
      ],
      "text/plain": [
       "   threshold  num_itemsets     apriori  FP-growth      ECLAT         PD\n",
       "0      0.200             0    0.661922   4.924543  23.384132  14.689454\n",
       "1      0.100             2    0.662228   5.455637  23.411084  14.876534\n",
       "2      0.050             6    0.782525   5.686054  24.163416  15.019968\n",
       "3      0.020            39    8.485401   8.418366  26.439045  17.778353\n",
       "4      0.015            69   24.902609  15.669178  27.688854  22.031963\n",
       "5      0.010           116  285.744967  37.711196  33.640964  31.739607"
      ]
     },
     "execution_count": 44,
     "metadata": {},
     "output_type": "execute_result"
    }
   ],
   "source": [
    "D={\"threshold\": [0.2, 0.1, 0.05, 0.02, 0.015, 0.01], \n",
    "   \"num_itemsets\":[],\n",
    "   \"apriori\":[], \n",
    "   \"FP-growth\":[], \n",
    "   \"ECLAT\":[], \n",
    "   \"PD\":[]}\n",
    "\n",
    "for min_supp in D[\"threshold\"]:\n",
    "    t0 = time.time()\n",
    "    FI_apriori=apriori(binary_db, min_supp)\n",
    "    t1 = time.time()\n",
    "    D[\"num_itemsets\"].append(FI_apriori.shape[0])\n",
    "    D[\"apriori\"].append(t1-t0)\n",
    "\n",
    "    FI_fpg= fpgrowth(binary_db, min_supp)\n",
    "    t2 = time.time()\n",
    "    D[\"FP-growth\"].append(t2-t1)\n",
    "\n",
    "    FI_eclat= pyeclat(orders_eclat, min_supp)    \n",
    "    t3 = time.time()\n",
    "    D[\"ECLAT\"].append(t3-t2)\n",
    "\n",
    "    FI_pdfis= freqitemsets(orders_eclat, min_supp)    \n",
    "    t4 = time.time()\n",
    "    D[\"PD\"].append(t4-t3)\n",
    "\n",
    "    \n",
    "    print(min_supp, FI_apriori.shape[0],\"\\n\\tApriori time:\", t1-t0, \n",
    "          \"\\n\\tFP-growth time:\",t2-t1,\n",
    "          \"\\n\\tECLAT time:\", t3-t2,\n",
    "          \"\\n\\tPD time:\", t4-t3)\n",
    "    \n",
    "df_performance=pd.DataFrame(D)\n",
    "df_performance"
   ]
  },
  {
   "cell_type": "markdown",
   "id": "aecb7077",
   "metadata": {},
   "source": [
    "When first taking a look into this we first need to understand that all of the different algorithms will provide us with the same itemsets as each other as long as they are running they same minimum support level.\n",
    "\n",
    "So when analyzing this point there would be a few things to take into consideration going from time complexity, itemsets generated and computacional requirements. Being that the itemsets generated will be equal between the 4 algorithms the main point that we are evaluating here is time complexity.\n",
    "\n",
    "What we can observe is that there is an exponential growth in time complexity for Apriori and also a substancial growth in FP-Growth. While those two seem to have big increases in their own league we can observe that Eclat remains somewhat stable as the complexity of the issue increases (the minimum support level becomes lower) and the PD algorithm also shows potential on the same. But when observing these two side by side in each iteration there is a higher change that the Eclat will outperform PD if we were to lower the min support level just a little more.\n",
    "\n",
    "With that said we did make a decision to run with the Eclat algorithm at a minimum support level of 0.01."
   ]
  },
  {
   "cell_type": "code",
   "execution_count": 89,
   "id": "d9199caa",
   "metadata": {},
   "outputs": [
    {
     "name": "stderr",
     "output_type": "stream",
     "text": [
      "C:\\Users\\tiago\\anaconda3\\lib\\site-packages\\pandas\\core\\arraylike.py:397: RuntimeWarning: divide by zero encountered in log\n",
      "  result = getattr(ufunc, method)(*inputs, **kwargs)\n",
      "C:\\Users\\tiago\\anaconda3\\lib\\site-packages\\pandas\\core\\arraylike.py:397: RuntimeWarning: divide by zero encountered in log\n",
      "  result = getattr(ufunc, method)(*inputs, **kwargs)\n",
      "C:\\Users\\tiago\\anaconda3\\lib\\site-packages\\pandas\\core\\arraylike.py:397: RuntimeWarning: divide by zero encountered in log\n",
      "  result = getattr(ufunc, method)(*inputs, **kwargs)\n",
      "C:\\Users\\tiago\\anaconda3\\lib\\site-packages\\pandas\\core\\arraylike.py:397: RuntimeWarning: divide by zero encountered in log\n",
      "  result = getattr(ufunc, method)(*inputs, **kwargs)\n"
     ]
    },
    {
     "data": {
      "image/png": "[encoded data removed]",
      "text/plain": [
       "<Figure size 432x288 with 1 Axes>"
      ]
     },
     "metadata": {
      "needs_background": "light"
     },
     "output_type": "display_data"
    }
   ],
   "source": [
    "plt.plot(np.log(df_performance[\"num_itemsets\"]), np.log(df_performance[\"apriori\"]),   c=\"r\", label=\"apriori\")\n",
    "plt.plot(np.log(df_performance[\"num_itemsets\"]), np.log(df_performance[\"FP-growth\"]), c=\"k\", label=\"fp-growth\")\n",
    "plt.plot(np.log(df_performance[\"num_itemsets\"]), np.log(df_performance[\"ECLAT\"]),     c=\"g\", label=\"eclat\")\n",
    "plt.plot(np.log(df_performance[\"num_itemsets\"]), np.log(df_performance[\"PD\"]),        c=\"b\", label=\"PD\")\n",
    "plt.grid()\n",
    "plt.legend()\n",
    "plt.show()"
   ]
  },
  {
   "cell_type": "markdown",
   "id": "42e960ac",
   "metadata": {},
   "source": [
    "### Objective 2"
   ]
  },
  {
   "cell_type": "code",
   "execution_count": 49,
   "id": "f4959b45",
   "metadata": {},
   "outputs": [],
   "source": [
    "FI_eclat= pyeclat(orders_eclat, 0.01)"
   ]
  },
  {
   "cell_type": "code",
   "execution_count": 69,
   "id": "0d922bd3",
   "metadata": {},
   "outputs": [],
   "source": [
    "rules = association_rules(FI_eclat, metric=\"confidence\", min_threshold=0.1)"
   ]
  },
  {
   "cell_type": "code",
   "execution_count": 94,
   "id": "fe74fb49",
   "metadata": {},
   "outputs": [],
   "source": [
    "#This will serve to update the antecedents and consequentes from productID to productName (GPT Generated Method)\n",
    "def map_product_names(itemset):\n",
    "    return [products[item_id] for item_id in itemset]"
   ]
  },
  {
   "cell_type": "code",
   "execution_count": 95,
   "id": "5c7c54d7",
   "metadata": {},
   "outputs": [],
   "source": [
    "rules[\"antecedents\"] = rules[\"antecedents\"].apply(map_product_names)\n",
    "rules[\"consequents\"] = rules[\"consequents\"].apply(map_product_names)"
   ]
  },
  {
   "cell_type": "code",
   "execution_count": 103,
   "id": "a1ec00fc",
   "metadata": {},
   "outputs": [
    {
     "name": "stdout",
     "output_type": "stream",
     "text": [
      "               antecedents               consequents  antecedent support  \\\n",
      "0     [Organic Fuji Apple]                  [Banana]            0.027880   \n",
      "8        [Organic Avocado]                  [Banana]            0.054999   \n",
      "4    [Organic Raspberries]  [Bag of Organic Bananas]            0.042632   \n",
      "14  [Organic Hass Avocado]  [Bag of Organic Bananas]            0.066436   \n",
      "5           [Strawberries]                  [Banana]            0.044466   \n",
      "6            [Large Lemon]                  [Banana]            0.047485   \n",
      "2    [Organic Raspberries]    [Organic Strawberries]            0.042632   \n",
      "24  [Organic Strawberries]  [Bag of Organic Bananas]            0.082331   \n",
      "20  [Organic Baby Spinach]                  [Banana]            0.075251   \n",
      "21  [Organic Strawberries]                  [Banana]            0.082331   \n",
      "\n",
      "    consequent support   support  confidence      lift  leverage  conviction  \\\n",
      "0             0.146993  0.010558    0.378693  2.576259  0.006460    1.372923   \n",
      "8             0.146993  0.016609    0.301982  2.054395  0.008524    1.222042   \n",
      "4             0.118030  0.012599    0.295519  2.503775  0.007567    1.251944   \n",
      "14            0.118030  0.019391    0.291880  2.472945  0.011550    1.245511   \n",
      "5             0.146993  0.012825    0.288434  1.962229  0.006289    1.198775   \n",
      "6             0.146993  0.012716    0.267790  1.821783  0.005736    1.164975   \n",
      "2             0.082331  0.010533    0.247072  3.000973  0.007023    1.218801   \n",
      "24            0.118030  0.019170    0.232837  1.972702  0.009452    1.149652   \n",
      "20            0.146993  0.015987    0.212445  1.445272  0.004925    1.083108   \n",
      "21            0.146993  0.017468    0.212163  1.443353  0.005365    1.082720   \n",
      "\n",
      "    zhangs_metric  \n",
      "0        0.629388  \n",
      "8        0.543109  \n",
      "4        0.627348  \n",
      "14       0.638011  \n",
      "5        0.513195  \n",
      "6        0.473575  \n",
      "2        0.696467  \n",
      "24       0.537319  \n",
      "20       0.333159  \n",
      "21       0.334727  \n"
     ]
    }
   ],
   "source": [
    "rules_sort = rules.sort_values([\"confidence\", \"lift\"], ascending=False)\n",
    "print(rules_sort.head(10))"
   ]
  },
  {
   "cell_type": "markdown",
   "id": "9e493a1a",
   "metadata": {},
   "source": [
    "Confidence measures the conditional probability of the consequent given the antecedent. Lift measures how much more likely the consequent is given the antecedent than if they were independent. With this in mind a way to examine for the most relevant rules of the dataset is to sort and check for the highest values of lift and confidence. While support and conviction measures also exist these present themselves as being more of a relationship strength check.\n",
    "\n",
    "Example: [Organic Fuji Apple] -> [Banana] there is a lift of 2.576 and a confidence of 0.379. This could mean that people who get Organic Fuji Apple are 2.576 times more likely to get a Banana.\n",
    "\n",
    "With the data transformed to use product names instead of product IDs we can find a very specific trend in our results of rules and these are that as people by various types of fruits there is a big trend that they will always also take bananas. There also seems to be a trend that if you are take any type of Organic food you are also more likely that your bag will include more items within that genre.\n",
    "\n",
    "This values could also be influenced by quantity. Has some present a set of \"Bag of Bananas\" and some as \"Bananas\" but these in the dataset itself could prove to have an influence."
   ]
  },
  {
   "cell_type": "code",
   "execution_count": 64,
   "id": "b2b1e0ba",
   "metadata": {},
   "outputs": [
    {
     "name": "stdout",
     "output_type": "stream",
     "text": [
      "Number of Maximal Itemsets 106\n"
     ]
    }
   ],
   "source": [
    "maximal_eclat= pyeclat(orders_eclat, 0.01, target=\"m\")\n",
    "print(\"Number of Maximal Itemsets\", len(maximal_eclat))"
   ]
  },
  {
   "cell_type": "code",
   "execution_count": 83,
   "id": "320ee69a",
   "metadata": {},
   "outputs": [],
   "source": [
    "rules_maximal = association_rules(maximal_eclat, metric=\"confidence\", min_threshold=0.005, support_only=True)"
   ]
  },
  {
   "cell_type": "markdown",
   "id": "b357c48d",
   "metadata": {},
   "source": [
    "The only way we have to generate association rules for maximal itemsets is to specify the use of support_only. This is because association rules are generated by looking at the subsets of frequent itemsets and computing the confidence of the rules based on the support of the itemsets but because maximal itemsets do not have subsets there are no subsets to consider when generating association rules. In other words Maximal itemsets are \"This means that maximal itemsets do not have any more frequent supersets, which is a requirement for computing association rules.\" (text in quotes GPT generated.)"
   ]
  },
  {
   "cell_type": "code",
   "execution_count": 52,
   "id": "04198947",
   "metadata": {},
   "outputs": [
    {
     "name": "stdout",
     "output_type": "stream",
     "text": [
      "Number of Closed Itemsets 116\n"
     ]
    }
   ],
   "source": [
    "closed_eclat= pyeclat(orders_eclat, 0.01, target=\"c\")\n",
    "print(\"Number of Closed Itemsets\", len(closed_eclat))"
   ]
  },
  {
   "cell_type": "code",
   "execution_count": 97,
   "id": "5bb6f885",
   "metadata": {},
   "outputs": [],
   "source": [
    "rules_closed = association_rules(closed_eclat, metric=\"confidence\", min_threshold=0.1)"
   ]
  },
  {
   "cell_type": "code",
   "execution_count": 98,
   "id": "bae67f91",
   "metadata": {},
   "outputs": [],
   "source": [
    "rules_closed[\"antecedents\"] = rules_closed[\"antecedents\"].apply(map_product_names)\n",
    "rules_closed[\"consequents\"] = rules_closed[\"consequents\"].apply(map_product_names)"
   ]
  },
  {
   "cell_type": "code",
   "execution_count": 102,
   "id": "4c43a53d",
   "metadata": {},
   "outputs": [
    {
     "name": "stdout",
     "output_type": "stream",
     "text": [
      "               antecedents               consequents  antecedent support  \\\n",
      "0     [Organic Fuji Apple]                  [Banana]            0.027880   \n",
      "8        [Organic Avocado]                  [Banana]            0.054999   \n",
      "4    [Organic Raspberries]  [Bag of Organic Bananas]            0.042632   \n",
      "14  [Organic Hass Avocado]  [Bag of Organic Bananas]            0.066436   \n",
      "5           [Strawberries]                  [Banana]            0.044466   \n",
      "6            [Large Lemon]                  [Banana]            0.047485   \n",
      "2    [Organic Raspberries]    [Organic Strawberries]            0.042632   \n",
      "24  [Organic Strawberries]  [Bag of Organic Bananas]            0.082331   \n",
      "20  [Organic Baby Spinach]                  [Banana]            0.075251   \n",
      "21  [Organic Strawberries]                  [Banana]            0.082331   \n",
      "\n",
      "    consequent support   support  confidence      lift  leverage  conviction  \\\n",
      "0             0.146993  0.010558    0.378693  2.576259  0.006460    1.372923   \n",
      "8             0.146993  0.016609    0.301982  2.054395  0.008524    1.222042   \n",
      "4             0.118030  0.012599    0.295519  2.503775  0.007567    1.251944   \n",
      "14            0.118030  0.019391    0.291880  2.472945  0.011550    1.245511   \n",
      "5             0.146993  0.012825    0.288434  1.962229  0.006289    1.198775   \n",
      "6             0.146993  0.012716    0.267790  1.821783  0.005736    1.164975   \n",
      "2             0.082331  0.010533    0.247072  3.000973  0.007023    1.218801   \n",
      "24            0.118030  0.019170    0.232837  1.972702  0.009452    1.149652   \n",
      "20            0.146993  0.015987    0.212445  1.445272  0.004925    1.083108   \n",
      "21            0.146993  0.017468    0.212163  1.443353  0.005365    1.082720   \n",
      "\n",
      "    zhangs_metric  \n",
      "0        0.629388  \n",
      "8        0.543109  \n",
      "4        0.627348  \n",
      "14       0.638011  \n",
      "5        0.513195  \n",
      "6        0.473575  \n",
      "2        0.696467  \n",
      "24       0.537319  \n",
      "20       0.333159  \n",
      "21       0.334727  \n"
     ]
    }
   ],
   "source": [
    "rules_closed_sort = rules_closed.sort_values([\"confidence\", \"lift\"], ascending=False)\n",
    "print(rules_closed_sort.head(10))"
   ]
  },
  {
   "cell_type": "markdown",
   "id": "2c9fef23",
   "metadata": {},
   "source": [
    "Generating association rules from a closed frequent itemset is supposed to be more eficient than generating all rules as it eliminates redundancy that could come up from multiple frequent itemsets that have the same items. However in this specific case when generating the frequent itemsets using eclat with a target on closed items we were presented with the fact that the itemsets were the same as the default eclat.\n",
    "\n",
    "While this can happen it is also very dataset-specific as using closed algorithms in different datasets will in fact generate different results for itemsets.\n",
    "\n",
    "This leading to the same conclusions we had on our default eclat analysis."
   ]
  }
 ],
 "metadata": {
  "kernelspec": {
   "display_name": "Python 3 (ipykernel)",
   "language": "python",
   "name": "python3"
  },
  "language_info": {
   "codemirror_mode": {
    "name": "ipython",
    "version": 3
   },
   "file_extension": ".py",
   "mimetype": "text/x-python",
   "name": "python",
   "nbconvert_exporter": "python",
   "pygments_lexer": "ipython3",
   "version": "3.9.12"
  }
 },
 "nbformat": 4,
 "nbformat_minor": 5
}
